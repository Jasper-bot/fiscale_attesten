{
 "cells": [
  {
   "cell_type": "code",
   "execution_count": 12,
   "metadata": {},
   "outputs": [],
   "source": [
    "# pip install fpdf\n",
    "# pip install pillow\n",
    "\n",
    "#windows: installeer pi"
   ]
  },
  {
   "cell_type": "code",
   "execution_count": 13,
   "metadata": {},
   "outputs": [],
   "source": [
    "import numpy as np\n",
    "import pandas as pd\n",
    "from sklearn import datasets, linear_model\n",
    "from PIL import Image, ImageFont, ImageDraw \n",
    "from pdf2image import convert_from_path\n",
    "from fpdf import FPDF"
   ]
  },
  {
   "cell_type": "markdown",
   "metadata": {},
   "source": [
    "read csv, rename columns"
   ]
  },
  {
   "cell_type": "code",
   "execution_count": 2,
   "metadata": {},
   "outputs": [],
   "source": [
    "df_all = pd.read_csv('data.csv', delimiter=\",\")\n",
    "df_all = df_all.rename(columns = {\n",
    "    'Naam kind': 'naam', \n",
    "    'Voornaam kind': 'voornaam', \n",
    "    'Mijn kind is onderdeel van': 'groep',\n",
    "    'Geboortedatum kind':'geboortedatum',\n",
    "    'Mijn kind ging x aantal dagen mee op kamp in 2021' : 'kampdagen',\n",
    "    'Mijn kind ging mee op weekend in 2021': 'weekend',\n",
    "    'Emailadres waar wij het attest naar terugmailen': 'email',\n",
    "    'adres':'adres',\n",
    "    'Voornaam ouder':'vno',\n",
    "    'Naam ouder':'no'\n",
    "})"
   ]
  },
  {
   "cell_type": "markdown",
   "metadata": {},
   "source": [
    "berekenen nieuwe kolommen"
   ]
  },
  {
   "cell_type": "code",
   "execution_count": 3,
   "metadata": {},
   "outputs": [],
   "source": [
    "df_all['aantal_dagen'] = np.where(df_all[\"weekend\"] == \"ja\", df_all[\"kampdagen\"] + 2, df_all[\"kampdagen\"])\n",
    "df_all['prijs'] = np.where(df_all[\"kampdagen\"] == 10, 150, 80)\n",
    "df_all['prijs'] = np.where(df_all[\"weekend\"] == \"ja\", df_all['prijs'] + 25, df_all['prijs'] )\n",
    "df_all['prijs_per_dag'] = df_all['aantal_dagen'] / df_all['prijs']"
   ]
  },
  {
   "cell_type": "markdown",
   "metadata": {},
   "source": [
    "split in hito | sjima dataframe"
   ]
  },
  {
   "cell_type": "code",
   "execution_count": 4,
   "metadata": {},
   "outputs": [],
   "source": [
    "df_hito = df_all[df_all.groep == 'Chiro Hito (meisjes)']\n",
    "df_sjima = df_all[df_all.groep == 'Chiro Sjima (jongens)']"
   ]
  },
  {
   "cell_type": "markdown",
   "metadata": {},
   "source": [
    "pdfs als afbeeldingen opslaan"
   ]
  },
  {
   "cell_type": "code",
   "execution_count": 5,
   "metadata": {},
   "outputs": [],
   "source": [
    "# Store Pdf with convert_from_path function\n",
    "hito_images = convert_from_path('Chiro Hito.pdf')\n",
    "sjima_images =  convert_from_path('Chiro Sjima.pdf')\n",
    "\n",
    "# voorbeeldcode opslaan op schijf:\n",
    "# for i in range(len(hito_images)):\n",
    "#     hito_images[i].save('page'+ str(i) +'.jpg', 'JPEG')\n",
    "\n",
    "# for i in range(len(sjima_images)):\n",
    "#     sjima_images[i].save('page'+ str(i) +'.jpg', 'JPEG')\n",
    "    \n",
    "sjima_images[1].save('test.jpg')\n",
    "my_image = Image.open(\"test.jpg\")"
   ]
  },
  {
   "cell_type": "markdown",
   "metadata": {},
   "source": [
    "TODO: loopen over sjima dataframe\n",
    "data toevoegen aan image\n",
    "pdf maken van alle paginas\n",
    "pdf opslaan met naamgeving emailadres"
   ]
  },
  {
   "cell_type": "code",
   "execution_count": 6,
   "metadata": {},
   "outputs": [],
   "source": [
    "text = \"Ik wil dit niet manueel doen\"\n",
    "font = ImageFont.truetype('Roboto/Roboto-Medium.ttf', 120)\n",
    "image_editable = ImageDraw.Draw(my_image)\n",
    "image_editable.text((0,0), text, (0,0,0), font=font)\n",
    "my_image.save(\"test2.jpg\")"
   ]
  },
  {
   "cell_type": "code",
   "execution_count": 11,
   "metadata": {},
   "outputs": [
    {
     "ename": "TypeError",
     "evalue": "unhashable type: 'PpmImageFile'",
     "output_type": "error",
     "traceback": [
      "\u001b[1;31m---------------------------------------------------------------------------\u001b[0m",
      "\u001b[1;31mTypeError\u001b[0m                                 Traceback (most recent call last)",
      "\u001b[1;32m~\\AppData\\Local\\Temp/ipykernel_5924/979880568.py\u001b[0m in \u001b[0;36m<module>\u001b[1;34m\u001b[0m\n\u001b[0;32m      4\u001b[0m \u001b[1;32mfor\u001b[0m \u001b[0mimage\u001b[0m \u001b[1;32min\u001b[0m \u001b[0msjima_images\u001b[0m\u001b[1;33m:\u001b[0m\u001b[1;33m\u001b[0m\u001b[1;33m\u001b[0m\u001b[0m\n\u001b[0;32m      5\u001b[0m     \u001b[0mpdf\u001b[0m\u001b[1;33m.\u001b[0m\u001b[0madd_page\u001b[0m\u001b[1;33m(\u001b[0m\u001b[1;33m)\u001b[0m\u001b[1;33m\u001b[0m\u001b[1;33m\u001b[0m\u001b[0m\n\u001b[1;32m----> 6\u001b[1;33m     \u001b[0mpdf\u001b[0m\u001b[1;33m.\u001b[0m\u001b[0mimage\u001b[0m\u001b[1;33m(\u001b[0m\u001b[0mimage\u001b[0m\u001b[1;33m,\u001b[0m\u001b[1;36m0\u001b[0m\u001b[1;33m,\u001b[0m\u001b[1;36m0\u001b[0m\u001b[1;33m,\u001b[0m\u001b[1;36m210\u001b[0m\u001b[1;33m,\u001b[0m\u001b[1;36m297\u001b[0m\u001b[1;33m)\u001b[0m\u001b[1;33m\u001b[0m\u001b[1;33m\u001b[0m\u001b[0m\n\u001b[0m\u001b[0;32m      7\u001b[0m \u001b[0mpdf\u001b[0m\u001b[1;33m.\u001b[0m\u001b[0moutput\u001b[0m\u001b[1;33m(\u001b[0m\u001b[1;34m\"yourfile.pdf\"\u001b[0m\u001b[1;33m,\u001b[0m \u001b[1;34m\"F\"\u001b[0m\u001b[1;33m)\u001b[0m\u001b[1;33m\u001b[0m\u001b[1;33m\u001b[0m\u001b[0m\n",
      "\u001b[1;32m~\\anaconda3\\lib\\site-packages\\fpdf\\fpdf.py\u001b[0m in \u001b[0;36mwrapper\u001b[1;34m(self, *args, **kwargs)\u001b[0m\n\u001b[0;32m    148\u001b[0m                 \u001b[0mself\u001b[0m\u001b[1;33m.\u001b[0m\u001b[0merror\u001b[0m\u001b[1;33m(\u001b[0m\u001b[1;34m\"No page open, you need to call add_page() first\"\u001b[0m\u001b[1;33m)\u001b[0m\u001b[1;33m\u001b[0m\u001b[1;33m\u001b[0m\u001b[0m\n\u001b[0;32m    149\u001b[0m             \u001b[1;32melse\u001b[0m\u001b[1;33m:\u001b[0m\u001b[1;33m\u001b[0m\u001b[1;33m\u001b[0m\u001b[0m\n\u001b[1;32m--> 150\u001b[1;33m                 \u001b[1;32mreturn\u001b[0m \u001b[0mfn\u001b[0m\u001b[1;33m(\u001b[0m\u001b[0mself\u001b[0m\u001b[1;33m,\u001b[0m \u001b[1;33m*\u001b[0m\u001b[0margs\u001b[0m\u001b[1;33m,\u001b[0m \u001b[1;33m**\u001b[0m\u001b[0mkwargs\u001b[0m\u001b[1;33m)\u001b[0m\u001b[1;33m\u001b[0m\u001b[1;33m\u001b[0m\u001b[0m\n\u001b[0m\u001b[0;32m    151\u001b[0m         \u001b[1;32mreturn\u001b[0m \u001b[0mwrapper\u001b[0m\u001b[1;33m\u001b[0m\u001b[1;33m\u001b[0m\u001b[0m\n\u001b[0;32m    152\u001b[0m \u001b[1;33m\u001b[0m\u001b[0m\n",
      "\u001b[1;32m~\\anaconda3\\lib\\site-packages\\fpdf\\fpdf.py\u001b[0m in \u001b[0;36mimage\u001b[1;34m(self, name, x, y, w, h, type, link)\u001b[0m\n\u001b[0;32m    958\u001b[0m     \u001b[1;32mdef\u001b[0m \u001b[0mimage\u001b[0m\u001b[1;33m(\u001b[0m\u001b[0mself\u001b[0m\u001b[1;33m,\u001b[0m \u001b[0mname\u001b[0m\u001b[1;33m,\u001b[0m \u001b[0mx\u001b[0m\u001b[1;33m=\u001b[0m\u001b[1;32mNone\u001b[0m\u001b[1;33m,\u001b[0m \u001b[0my\u001b[0m\u001b[1;33m=\u001b[0m\u001b[1;32mNone\u001b[0m\u001b[1;33m,\u001b[0m \u001b[0mw\u001b[0m\u001b[1;33m=\u001b[0m\u001b[1;36m0\u001b[0m\u001b[1;33m,\u001b[0m\u001b[0mh\u001b[0m\u001b[1;33m=\u001b[0m\u001b[1;36m0\u001b[0m\u001b[1;33m,\u001b[0m\u001b[0mtype\u001b[0m\u001b[1;33m=\u001b[0m\u001b[1;34m''\u001b[0m\u001b[1;33m,\u001b[0m\u001b[0mlink\u001b[0m\u001b[1;33m=\u001b[0m\u001b[1;34m''\u001b[0m\u001b[1;33m)\u001b[0m\u001b[1;33m:\u001b[0m\u001b[1;33m\u001b[0m\u001b[1;33m\u001b[0m\u001b[0m\n\u001b[0;32m    959\u001b[0m         \u001b[1;34m\"Put an image on the page\"\u001b[0m\u001b[1;33m\u001b[0m\u001b[1;33m\u001b[0m\u001b[0m\n\u001b[1;32m--> 960\u001b[1;33m         \u001b[1;32mif\u001b[0m \u001b[1;32mnot\u001b[0m \u001b[0mname\u001b[0m \u001b[1;32min\u001b[0m \u001b[0mself\u001b[0m\u001b[1;33m.\u001b[0m\u001b[0mimages\u001b[0m\u001b[1;33m:\u001b[0m\u001b[1;33m\u001b[0m\u001b[1;33m\u001b[0m\u001b[0m\n\u001b[0m\u001b[0;32m    961\u001b[0m             \u001b[1;31m#First use of image, get info\u001b[0m\u001b[1;33m\u001b[0m\u001b[1;33m\u001b[0m\u001b[0m\n\u001b[0;32m    962\u001b[0m             \u001b[1;32mif\u001b[0m\u001b[1;33m(\u001b[0m\u001b[0mtype\u001b[0m\u001b[1;33m==\u001b[0m\u001b[1;34m''\u001b[0m\u001b[1;33m)\u001b[0m\u001b[1;33m:\u001b[0m\u001b[1;33m\u001b[0m\u001b[1;33m\u001b[0m\u001b[0m\n",
      "\u001b[1;31mTypeError\u001b[0m: unhashable type: 'PpmImageFile'"
     ]
    }
   ],
   "source": [
    "# https://stackoverflow.com/questions/27327513/create-pdf-from-a-list-of-images\n",
    "pdf = FPDF()\n",
    "# imagelist is the list with all image filenames\n",
    "for image in sjima_images:\n",
    "    pdf.add_page()\n",
    "    pdf.image(image,0,0,210,297)\n",
    "pdf.output(\"yourfile.pdf\", \"F\")"
   ]
  },
  {
   "cell_type": "code",
   "execution_count": null,
   "metadata": {},
   "outputs": [],
   "source": []
  }
 ],
 "metadata": {
  "kernelspec": {
   "display_name": "Python 3 (ipykernel)",
   "language": "python",
   "name": "python3"
  },
  "language_info": {
   "codemirror_mode": {
    "name": "ipython",
    "version": 3
   },
   "file_extension": ".py",
   "mimetype": "text/x-python",
   "name": "python",
   "nbconvert_exporter": "python",
   "pygments_lexer": "ipython3",
   "version": "3.9.7"
  }
 },
 "nbformat": 4,
 "nbformat_minor": 4
}
