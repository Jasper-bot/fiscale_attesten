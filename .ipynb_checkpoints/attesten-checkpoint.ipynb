{
 "cells": [
  {
   "cell_type": "code",
   "execution_count": null,
   "metadata": {},
   "outputs": [],
   "source": [
    "pip install fpdf"
   ]
  },
  {
   "cell_type": "code",
   "execution_count": 1,
   "metadata": {},
   "outputs": [],
   "source": [
    "import numpy as np\n",
    "import pandas as pd\n",
    "from sklearn import datasets, linear_model\n",
    "from PIL import Image, ImageFont, ImageDraw \n",
    "from pdf2image import convert_from_path\n",
    "from fpdf import FPDF"
   ]
  },
  {
   "cell_type": "markdown",
   "metadata": {},
   "source": [
    "read csv, rename columns"
   ]
  },
  {
   "cell_type": "code",
   "execution_count": 2,
   "metadata": {},
   "outputs": [],
   "source": [
    "df_all = pd.read_csv('data.csv', delimiter=\",\")\n",
    "df_all = df_all.rename(columns = {\n",
    "    'Naam kind': 'naam', \n",
    "    'Voornaam kind': 'voornaam', \n",
    "    'Mijn kind is onderdeel van': 'groep',\n",
    "    'Geboortedatum kind':'geboortedatum',\n",
    "    'Mijn kind ging x aantal dagen mee op kamp in 2021' : 'kampdagen',\n",
    "    'Mijn kind ging mee op weekend in 2021': 'weekend',\n",
    "    'Emailadres waar wij het attest naar terugmailen': 'email',\n",
    "    'adres':'adres',\n",
    "    'Voornaam ouder':'vno',\n",
    "    'Naam ouder':'no'\n",
    "})"
   ]
  },
  {
   "cell_type": "markdown",
   "metadata": {},
   "source": [
    "berekenen nieuwe kolommen"
   ]
  },
  {
   "cell_type": "code",
   "execution_count": 3,
   "metadata": {},
   "outputs": [],
   "source": [
    "df_all['aantal_dagen'] = np.where(df_all[\"weekend\"] == \"ja\", df_all[\"kampdagen\"] + 2, df_all[\"kampdagen\"])\n",
    "df_all['prijs'] = np.where(df_all[\"kampdagen\"] == 10, 150, 80)\n",
    "df_all['prijs'] = np.where(df_all[\"weekend\"] == \"ja\", df_all['prijs'] + 25, df_all['prijs'] )\n",
    "df_all['prijs_per_dag'] = df_all['aantal_dagen'] / df_all['prijs']"
   ]
  },
  {
   "cell_type": "markdown",
   "metadata": {},
   "source": [
    "split in hito | sjima dataframe"
   ]
  },
  {
   "cell_type": "code",
   "execution_count": 4,
   "metadata": {},
   "outputs": [],
   "source": [
    "df_hito = df_all[df_all.groep == 'Chiro Hito (meisjes)']\n",
    "df_sjima = df_all[df_all.groep == 'Chiro Sjima (jongens)']"
   ]
  },
  {
   "cell_type": "markdown",
   "metadata": {},
   "source": [
    "pdfs als afbeeldingen opslaan"
   ]
  },
  {
   "cell_type": "code",
   "execution_count": 5,
   "metadata": {},
   "outputs": [],
   "source": [
    "# Store Pdf with convert_from_path function\n",
    "hito_images = convert_from_path('Chiro Hito.pdf')\n",
    "sjima_images =  convert_from_path('Chiro Sjima.pdf')\n",
    "\n",
    "# voorbeeldcode opslaan op schijf:\n",
    "# for i in range(len(hito_images)):\n",
    "#     hito_images[i].save('page'+ str(i) +'.jpg', 'JPEG')\n",
    "\n",
    "# for i in range(len(sjima_images)):\n",
    "#     sjima_images[i].save('page'+ str(i) +'.jpg', 'JPEG')\n",
    "    \n",
    "sjima_images[1].save('test.jpg')\n",
    "my_image = Image.open(\"test.jpg\")"
   ]
  },
  {
   "cell_type": "code",
   "execution_count": 6,
   "metadata": {},
   "outputs": [],
   "source": [
    "text = \"Ik wil dit niet manueel doen\"\n",
    "font = ImageFont.truetype('Roboto/Roboto-Medium.ttf', 120)\n",
    "image_editable = ImageDraw.Draw(my_image)\n",
    "image_editable.text((0,0), text, (0,0,0), font=font)\n",
    "my_image.save(\"test2.jpg\")"
   ]
  },
  {
   "cell_type": "code",
   "execution_count": null,
   "metadata": {},
   "outputs": [],
   "source": [
    "# https://stackoverflow.com/questions/27327513/create-pdf-from-a-list-of-images\n",
    "pdf = FPDF()\n",
    "# imagelist is the list with all image filenames\n",
    "for image in imagelist:\n",
    "    pdf.add_page()\n",
    "    pdf.image(image,x,y,w,h)\n",
    "pdf.output(\"yourfile.pdf\", \"F\")"
   ]
  }
 ],
 "metadata": {
  "kernelspec": {
   "display_name": "Python 3 (ipykernel)",
   "language": "python",
   "name": "python3"
  },
  "language_info": {
   "codemirror_mode": {
    "name": "ipython",
    "version": 3
   },
   "file_extension": ".py",
   "mimetype": "text/x-python",
   "name": "python",
   "nbconvert_exporter": "python",
   "pygments_lexer": "ipython3",
   "version": "3.9.7"
  }
 },
 "nbformat": 4,
 "nbformat_minor": 4
}
